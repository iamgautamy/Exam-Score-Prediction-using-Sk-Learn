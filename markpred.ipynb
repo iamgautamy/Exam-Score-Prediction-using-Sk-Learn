{
 "cells": [
  {
   "cell_type": "code",
   "execution_count": 1,
   "metadata": {},
   "outputs": [],
   "source": [
    "import pandas as pd\r\n",
    "import numpy as np \r\n",
    "import matplotlib.pyplot as plt \r\n",
    "from sklearn.preprocessing import StandardScaler\r\n",
    "from sklearn.linear_model import LinearRegression\r\n",
    "from sklearn.model_selection import train_test_split\r\n",
    "import seaborn as sns "
   ]
  },
  {
   "cell_type": "code",
   "execution_count": 2,
   "metadata": {},
   "outputs": [],
   "source": [
    "train_df = pd.read_csv('train.csv')\r\n",
    "test_df = pd.read_csv('test.csv')"
   ]
  },
  {
   "cell_type": "code",
   "execution_count": 3,
   "metadata": {},
   "outputs": [
    {
     "data": {
      "text/html": "<div>\n<style scoped>\n    .dataframe tbody tr th:only-of-type {\n        vertical-align: middle;\n    }\n\n    .dataframe tbody tr th {\n        vertical-align: top;\n    }\n\n    .dataframe thead th {\n        text-align: right;\n    }\n</style>\n<table border=\"1\" class=\"dataframe\">\n  <thead>\n    <tr style=\"text-align: right;\">\n      <th></th>\n      <th>Unnamed: 0</th>\n      <th>gender</th>\n      <th>ethnicity</th>\n      <th>parental level of education</th>\n      <th>lunch</th>\n      <th>test preparation course</th>\n      <th>reading score</th>\n      <th>writing score</th>\n      <th>math score</th>\n    </tr>\n  </thead>\n  <tbody>\n    <tr>\n      <th>0</th>\n      <td>0</td>\n      <td>male</td>\n      <td>group C</td>\n      <td>some college</td>\n      <td>standard</td>\n      <td>none</td>\n      <td>61</td>\n      <td>62</td>\n      <td>61</td>\n    </tr>\n    <tr>\n      <th>1</th>\n      <td>1</td>\n      <td>female</td>\n      <td>group C</td>\n      <td>associate's degree</td>\n      <td>standard</td>\n      <td>none</td>\n      <td>62</td>\n      <td>53</td>\n      <td>53</td>\n    </tr>\n    <tr>\n      <th>2</th>\n      <td>2</td>\n      <td>female</td>\n      <td>group C</td>\n      <td>some college</td>\n      <td>free/reduced</td>\n      <td>completed</td>\n      <td>75</td>\n      <td>70</td>\n      <td>67</td>\n    </tr>\n    <tr>\n      <th>3</th>\n      <td>3</td>\n      <td>male</td>\n      <td>group C</td>\n      <td>some high school</td>\n      <td>free/reduced</td>\n      <td>none</td>\n      <td>76</td>\n      <td>65</td>\n      <td>79</td>\n    </tr>\n    <tr>\n      <th>4</th>\n      <td>4</td>\n      <td>male</td>\n      <td>group A</td>\n      <td>high school</td>\n      <td>free/reduced</td>\n      <td>none</td>\n      <td>58</td>\n      <td>44</td>\n      <td>53</td>\n    </tr>\n  </tbody>\n</table>\n</div>",
      "text/plain": "   Unnamed: 0  gender ethnicity parental level of education         lunch  \\\n0           0    male   group C                some college      standard   \n1           1  female   group C          associate's degree      standard   \n2           2  female   group C                some college  free/reduced   \n3           3    male   group C            some high school  free/reduced   \n4           4    male   group A                 high school  free/reduced   \n\n  test preparation course  reading score  writing score  math score  \n0                    none             61             62          61  \n1                    none             62             53          53  \n2               completed             75             70          67  \n3                    none             76             65          79  \n4                    none             58             44          53  "
     },
     "execution_count": 3,
     "metadata": {},
     "output_type": "execute_result"
    }
   ],
   "source": [
    "train_df.head(5)"
   ]
  },
  {
   "cell_type": "code",
   "execution_count": 4,
   "metadata": {},
   "outputs": [],
   "source": [
    "train_df.columns = train_df.columns.str.replace(' ','_')\r\n",
    "test_df.columns = test_df.columns.str.replace(' ','_')"
   ]
  },
  {
   "cell_type": "code",
   "execution_count": 5,
   "metadata": {},
   "outputs": [
    {
     "data": {
      "text/plain": "(700, 9)"
     },
     "execution_count": 5,
     "metadata": {},
     "output_type": "execute_result"
    }
   ],
   "source": [
    "train_df.shape"
   ]
  },
  {
   "cell_type": "code",
   "execution_count": 6,
   "metadata": {},
   "outputs": [
    {
     "data": {
      "text/plain": "(300, 8)"
     },
     "execution_count": 6,
     "metadata": {},
     "output_type": "execute_result"
    }
   ],
   "source": [
    "test_df.shape"
   ]
  },
  {
   "cell_type": "code",
   "execution_count": 7,
   "metadata": {},
   "outputs": [
    {
     "data": {
      "text/html": "<div>\n<style scoped>\n    .dataframe tbody tr th:only-of-type {\n        vertical-align: middle;\n    }\n\n    .dataframe tbody tr th {\n        vertical-align: top;\n    }\n\n    .dataframe thead th {\n        text-align: right;\n    }\n</style>\n<table border=\"1\" class=\"dataframe\">\n  <thead>\n    <tr style=\"text-align: right;\">\n      <th></th>\n      <th>Unnamed:_0</th>\n      <th>gender</th>\n      <th>ethnicity</th>\n      <th>parental_level_of_education</th>\n      <th>lunch</th>\n      <th>test_preparation_course</th>\n      <th>reading_score</th>\n      <th>writing_score</th>\n      <th>math_score</th>\n    </tr>\n  </thead>\n  <tbody>\n    <tr>\n      <th>0</th>\n      <td>0</td>\n      <td>male</td>\n      <td>group C</td>\n      <td>some college</td>\n      <td>standard</td>\n      <td>none</td>\n      <td>61</td>\n      <td>62</td>\n      <td>61</td>\n    </tr>\n    <tr>\n      <th>1</th>\n      <td>1</td>\n      <td>female</td>\n      <td>group C</td>\n      <td>associate's degree</td>\n      <td>standard</td>\n      <td>none</td>\n      <td>62</td>\n      <td>53</td>\n      <td>53</td>\n    </tr>\n    <tr>\n      <th>2</th>\n      <td>2</td>\n      <td>female</td>\n      <td>group C</td>\n      <td>some college</td>\n      <td>free/reduced</td>\n      <td>completed</td>\n      <td>75</td>\n      <td>70</td>\n      <td>67</td>\n    </tr>\n    <tr>\n      <th>3</th>\n      <td>3</td>\n      <td>male</td>\n      <td>group C</td>\n      <td>some high school</td>\n      <td>free/reduced</td>\n      <td>none</td>\n      <td>76</td>\n      <td>65</td>\n      <td>79</td>\n    </tr>\n    <tr>\n      <th>4</th>\n      <td>4</td>\n      <td>male</td>\n      <td>group A</td>\n      <td>high school</td>\n      <td>free/reduced</td>\n      <td>none</td>\n      <td>58</td>\n      <td>44</td>\n      <td>53</td>\n    </tr>\n  </tbody>\n</table>\n</div>",
      "text/plain": "   Unnamed:_0  gender ethnicity parental_level_of_education         lunch  \\\n0           0    male   group C                some college      standard   \n1           1  female   group C          associate's degree      standard   \n2           2  female   group C                some college  free/reduced   \n3           3    male   group C            some high school  free/reduced   \n4           4    male   group A                 high school  free/reduced   \n\n  test_preparation_course  reading_score  writing_score  math_score  \n0                    none             61             62          61  \n1                    none             62             53          53  \n2               completed             75             70          67  \n3                    none             76             65          79  \n4                    none             58             44          53  "
     },
     "execution_count": 7,
     "metadata": {},
     "output_type": "execute_result"
    }
   ],
   "source": [
    "train_df.head()"
   ]
  },
  {
   "cell_type": "code",
   "execution_count": 8,
   "metadata": {},
   "outputs": [
    {
     "name": "stderr",
     "output_type": "stream",
     "text": [
      "C:\\Users\\gauta\\AppData\\Local\\Programs\\Python\\Python39\\lib\\site-packages\\seaborn\\_decorators.py:36: FutureWarning: Pass the following variables as keyword args: x, y. From version 0.12, the only valid positional argument will be `data`, and passing other arguments without an explicit keyword will result in an error or misinterpretation.\n",
      "  warnings.warn(\n"
     ]
    },
    {
     "data": {
      "image/png": "[encoded data removed]",
      "text/plain": "<Figure size 432x288 with 1 Axes>"
     },
     "metadata": {
      "needs_background": "light"
     },
     "output_type": "display_data"
    }
   ],
   "source": [
    "ax = sns.boxenplot(train_df['test_preparation_course'],train_df['reading_score'])"
   ]
  },
  {
   "cell_type": "code",
   "execution_count": 9,
   "metadata": {},
   "outputs": [
    {
     "name": "stderr",
     "output_type": "stream",
     "text": [
      "C:\\Users\\gauta\\AppData\\Local\\Programs\\Python\\Python39\\lib\\site-packages\\seaborn\\_decorators.py:36: FutureWarning: Pass the following variables as keyword args: x, y. From version 0.12, the only valid positional argument will be `data`, and passing other arguments without an explicit keyword will result in an error or misinterpretation.\n",
      "  warnings.warn(\n"
     ]
    },
    {
     "data": {
      "image/png": "[encoded data removed]",
      "text/plain": "<Figure size 432x288 with 1 Axes>"
     },
     "metadata": {
      "needs_background": "light"
     },
     "output_type": "display_data"
    }
   ],
   "source": [
    "ax = sns.boxenplot(train_df['test_preparation_course'],train_df['writing_score'])"
   ]
  },
  {
   "cell_type": "code",
   "execution_count": 10,
   "metadata": {},
   "outputs": [
    {
     "name": "stderr",
     "output_type": "stream",
     "text": [
      "C:\\Users\\gauta\\AppData\\Local\\Programs\\Python\\Python39\\lib\\site-packages\\seaborn\\_decorators.py:36: FutureWarning: Pass the following variables as keyword args: x, y. From version 0.12, the only valid positional argument will be `data`, and passing other arguments without an explicit keyword will result in an error or misinterpretation.\n",
      "  warnings.warn(\n"
     ]
    },
    {
     "data": {
      "image/png": "[encoded data removed]",
      "text/plain": "<Figure size 432x288 with 1 Axes>"
     },
     "metadata": {
      "needs_background": "light"
     },
     "output_type": "display_data"
    }
   ],
   "source": [
    "ax = sns.boxenplot(train_df['test_preparation_course'],train_df['math_score'])"
   ]
  },
  {
   "cell_type": "code",
   "execution_count": 11,
   "metadata": {},
   "outputs": [],
   "source": [
    "train_df = train_df.drop(['Unnamed:_0','gender','ethnicity','parental_level_of_education','lunch','test_preparation_course'],1)\r\n",
    "test_df = test_df.drop(['Unnamed:_0','gender','ethnicity','parental_level_of_education','lunch','test_preparation_course'],1)"
   ]
  },
  {
   "cell_type": "code",
   "execution_count": 12,
   "metadata": {},
   "outputs": [
    {
     "data": {
      "text/html": "<div>\n<style scoped>\n    .dataframe tbody tr th:only-of-type {\n        vertical-align: middle;\n    }\n\n    .dataframe tbody tr th {\n        vertical-align: top;\n    }\n\n    .dataframe thead th {\n        text-align: right;\n    }\n</style>\n<table border=\"1\" class=\"dataframe\">\n  <thead>\n    <tr style=\"text-align: right;\">\n      <th></th>\n      <th>reading_score</th>\n      <th>writing_score</th>\n      <th>math_score</th>\n    </tr>\n  </thead>\n  <tbody>\n    <tr>\n      <th>0</th>\n      <td>61</td>\n      <td>62</td>\n      <td>61</td>\n    </tr>\n    <tr>\n      <th>1</th>\n      <td>62</td>\n      <td>53</td>\n      <td>53</td>\n    </tr>\n    <tr>\n      <th>2</th>\n      <td>75</td>\n      <td>70</td>\n      <td>67</td>\n    </tr>\n    <tr>\n      <th>3</th>\n      <td>76</td>\n      <td>65</td>\n      <td>79</td>\n    </tr>\n    <tr>\n      <th>4</th>\n      <td>58</td>\n      <td>44</td>\n      <td>53</td>\n    </tr>\n  </tbody>\n</table>\n</div>",
      "text/plain": "   reading_score  writing_score  math_score\n0             61             62          61\n1             62             53          53\n2             75             70          67\n3             76             65          79\n4             58             44          53"
     },
     "execution_count": 12,
     "metadata": {},
     "output_type": "execute_result"
    }
   ],
   "source": [
    "train_df.head()"
   ]
  },
  {
   "cell_type": "code",
   "execution_count": 13,
   "metadata": {},
   "outputs": [],
   "source": [
    "#Standard Scaling\r\n",
    "sc = StandardScaler()\r\n",
    "cols_to_scale = ['reading_score', 'writing_score', 'math_score']\r\n",
    "train_df[cols_to_scale] = sc.fit_transform(train_df[cols_to_scale])"
   ]
  },
  {
   "cell_type": "code",
   "execution_count": 14,
   "metadata": {},
   "outputs": [],
   "source": [
    "X = train_df.drop(['math_score'], axis=1)\r\n",
    "y = train_df['math_score']"
   ]
  },
  {
   "cell_type": "code",
   "execution_count": 15,
   "metadata": {},
   "outputs": [
    {
     "data": {
      "text/plain": "LinearRegression()"
     },
     "execution_count": 15,
     "metadata": {},
     "output_type": "execute_result"
    }
   ],
   "source": [
    "mod_lin = LinearRegression()\r\n",
    "mod_lin.fit(X,y)"
   ]
  },
  {
   "cell_type": "code",
   "execution_count": 16,
   "metadata": {},
   "outputs": [],
   "source": [
    "u_predict = np.round(mod_lin.predict(test_df))"
   ]
  },
  {
   "cell_type": "code",
   "execution_count": 17,
   "metadata": {},
   "outputs": [
    {
     "data": {
      "text/plain": "array([57., 50., 78., 39., 64., 81., 47., 64., 68., 62., 64., 57., 61.,\n       75., 47., 45., 52., 75., 50., 50., 66., 63., 65., 70., 43., 47.,\n       31., 45., 56., 36., 36., 57., 57., 51., 72., 63., 66., 63., 64.,\n       54., 58., 48., 57., 51., 41., 68., 48., 55., 59., 43., 48., 63.,\n       56., 76., 72., 53., 55., 48., 70., 75., 64., 56., 65., 53., 74.,\n       54., 60., 68., 55., 49., 68., 49., 61., 35., 49., 58., 69., 69.,\n       32., 54., 53., 64., 64., 65., 46., 40., 45., 71., 64., 62., 70.,\n       78., 59., 60., 68., 28., 47., 53., 42., 69., 56., 40., 60., 67.,\n       59., 65., 59., 35., 58., 46., 61., 29., 58., 64., 44., 75., 54.,\n       59., 45., 58., 48., 39., 45., 61., 64., 65., 61., 46., 64., 31.,\n       71., 59., 61., 83., 31., 56., 51., 58., 36., 73., 55., 59., 67.,\n       61., 24., 49., 71., 52., 71., 64., 44., 68., 54., 65., 44., 39.,\n       34., 42., 71., 52., 58., 73., 66., 42., 70., 62., 71., 62., 60.,\n       49., 69., 56., 34., 65., 62., 42., 60., 57., 63., 21., 49., 57.,\n       55., 54., 56., 55., 43., 47., 47., 60., 83., 54., 70., 63., 70.,\n       51., 54., 70., 81., 72., 64., 49., 44., 69., 74., 63., 60., 48.,\n       61., 36., 68., 57., 64., 40., 59., 50., 54., 56., 37., 69., 65.,\n       75., 61., 41., 56., 53., 49., 71., 53., 43., 43., 56., 38., 70.,\n       45., 58., 65., 67., 62., 52., 46., 74., 36., 61., 51., 47., 75.,\n       43., 72., 35., 43., 54., 66., 71., 41., 53., 83., 65., 53., 52.,\n       41., 59., 13., 34., 68., 64., 49., 66., 60., 60., 75., 62., 64.,\n       31., 40., 60., 44., 52., 53., 49., 58., 38., 50., 49., 67., 70.,\n       53., 63., 52., 64., 61., 54., 47., 44., 50., 67., 50., 50., 83.,\n       57.])"
     },
     "execution_count": 17,
     "metadata": {},
     "output_type": "execute_result"
    }
   ],
   "source": [
    "u_predict"
   ]
  },
  {
   "cell_type": "code",
   "execution_count": 18,
   "metadata": {},
   "outputs": [],
   "source": [
    "output = pd.DataFrame(u_predict,columns=['math score'])"
   ]
  },
  {
   "cell_type": "code",
   "execution_count": 19,
   "metadata": {},
   "outputs": [],
   "source": [
    "output.to_csv('output_u.csv')"
   ]
  }
 ],
 "metadata": {
  "kernelspec": {
   "display_name": "Python 3.9.0 64-bit",
   "name": "python390jvsc74a57bd099c88eeb74507d5ad6e0f603d98cd32f27498cc44a9bd4bf6b9bdf1a3514cee0"
  },
  "language_info": {
   "codemirror_mode": {
    "name": "ipython",
    "version": 3
   },
   "file_extension": ".py",
   "mimetype": "text/x-python",
   "name": "python",
   "nbconvert_exporter": "python",
   "pygments_lexer": "ipython3",
   "version": "3.9.0"
  },
  "orig_nbformat": 2
 },
 "nbformat": 4,
 "nbformat_minor": 2
}